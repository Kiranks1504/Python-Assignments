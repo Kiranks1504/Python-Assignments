{
 "cells": [
  {
   "cell_type": "code",
   "execution_count": null,
   "id": "e38c6807",
   "metadata": {},
   "outputs": [],
   "source": [
    "# 1.Write a Python Program to find sum of array?\n",
    "# 2.Write a Python Program to find largest element in an array?\n",
    "# 3.Write a Python Program for array rotation?\n",
    "# 4.Write a Python Program to Split the array and add the first part to the end?\n",
    "# 5.Write a Python Program to check if given array is Monotonic?"
   ]
  },
  {
   "cell_type": "code",
   "execution_count": 1,
   "id": "723800bb",
   "metadata": {},
   "outputs": [
    {
     "data": {
      "text/plain": [
       "28"
      ]
     },
     "execution_count": 1,
     "metadata": {},
     "output_type": "execute_result"
    }
   ],
   "source": [
    "# 1.Write a Python Program to find sum of array?\n",
    "def array_sum(array):\n",
    "    res = sum(array)\n",
    "    return res\n",
    "\n",
    "array = [1,2,3,4,5,6,7]\n",
    "array_sum(array)"
   ]
  },
  {
   "cell_type": "code",
   "execution_count": 3,
   "id": "edcd06fa",
   "metadata": {},
   "outputs": [
    {
     "data": {
      "text/plain": [
       "89"
      ]
     },
     "execution_count": 3,
     "metadata": {},
     "output_type": "execute_result"
    }
   ],
   "source": [
    "# 2.Write a Python Program to find largest element in an array?\n",
    "\n",
    "def array_max(array):\n",
    "    res = max(array)\n",
    "    return res\n",
    "\n",
    "array = [1,2,3,4,5,6,7,89]\n",
    "array_max(array)"
   ]
  },
  {
   "cell_type": "code",
   "execution_count": 10,
   "id": "a4b25fae",
   "metadata": {},
   "outputs": [
    {
     "data": {
      "text/plain": [
       "[5, 6, 7, 8, 9, 10, 1, 2, 3, 4]"
      ]
     },
     "execution_count": 10,
     "metadata": {},
     "output_type": "execute_result"
    }
   ],
   "source": [
    "# 3.Write a Python Program for array rotation?\n",
    "\n",
    "def array_rot(array, d):\n",
    "    res = array[d:] + array[:d]\n",
    "    return res\n",
    "\n",
    "array = [1,2,3,4,5,6,7,8,9,10]\n",
    "d = 4\n",
    "array_rot(array, d)"
   ]
  },
  {
   "cell_type": "code",
   "execution_count": 14,
   "id": "d3c2f512",
   "metadata": {},
   "outputs": [
    {
     "data": {
      "text/plain": [
       "[2, 3, 4, 5, 6, 7, 8, 9, 10, 11, 1]"
      ]
     },
     "execution_count": 14,
     "metadata": {},
     "output_type": "execute_result"
    }
   ],
   "source": [
    "# 4.Write a Python Program to Split the array and add the first part to the end?\n",
    "\n",
    "def array_split(array):\n",
    "    res = array[1:] + array[:1]\n",
    "    return res\n",
    "\n",
    "array = [1,2,3,4,5,6,7,8,9,10,11]\n",
    "array_split(array)"
   ]
  },
  {
   "cell_type": "code",
   "execution_count": 24,
   "id": "0e8cf73b",
   "metadata": {},
   "outputs": [
    {
     "data": {
      "text/plain": [
       "'Not monotonic'"
      ]
     },
     "execution_count": 24,
     "metadata": {},
     "output_type": "execute_result"
    }
   ],
   "source": [
    "# 5.Write a Python Program to check if given array is Monotonic?\n",
    "\n",
    "def monotonic_check(array):\n",
    "    sorted_array_asc = sorted(array)\n",
    "    sorted_array_des = sorted(array, reverse = True)\n",
    "    if array == sorted_array_asc or array == sorted_array_des:\n",
    "        res = \"Monotonic\"\n",
    "    else:\n",
    "        res = \"Not monotonic\"\n",
    "    return res\n",
    "\n",
    "array = [1,2,3,4,5,6,7,15,9,10,11]\n",
    "# array = [1,2,3,4,5,8,9]\n",
    "# array = [9,8,5,4,2,1]\n",
    "\n",
    "monotonic_check(array)"
   ]
  }
 ],
 "metadata": {
  "kernelspec": {
   "display_name": "Python 3 (ipykernel)",
   "language": "python",
   "name": "python3"
  },
  "language_info": {
   "codemirror_mode": {
    "name": "ipython",
    "version": 3
   },
   "file_extension": ".py",
   "mimetype": "text/x-python",
   "name": "python",
   "nbconvert_exporter": "python",
   "pygments_lexer": "ipython3",
   "version": "3.9.12"
  }
 },
 "nbformat": 4,
 "nbformat_minor": 5
}
