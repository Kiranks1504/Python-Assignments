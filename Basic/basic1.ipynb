{
 "cells": [
  {
   "cell_type": "code",
   "execution_count": 1,
   "id": "93b15a76",
   "metadata": {},
   "outputs": [],
   "source": [
    "# assignment3\n",
    "# 1.\tWrite a Python Program to Check if a Number is Positive, Negative or Zero?\n",
    "# 2.\tWrite a Python Program to Check if a Number is Odd or Even?\n",
    "# 3.\tWrite a Python Program to Check Leap Year?\n",
    "# 4.\tWrite a Python Program to Check Prime Number?\n",
    "# 5.\tWrite a Python Program to Print all Prime Numbers in an Interval of 1-10000?"
   ]
  },
  {
   "cell_type": "code",
   "execution_count": 9,
   "id": "b6fccebd",
   "metadata": {},
   "outputs": [
    {
     "name": "stdout",
     "output_type": "stream",
     "text": [
      "enter the number :0\n"
     ]
    },
    {
     "data": {
      "text/plain": [
       "'Zero'"
      ]
     },
     "execution_count": 9,
     "metadata": {},
     "output_type": "execute_result"
    }
   ],
   "source": [
    "#1.\tWrite a Python Program to Check if a Number is Positive, Negative or Zero?\n",
    "\n",
    "def chk_pos_neg_zero(num):\n",
    "    \n",
    "    if num < 0:\n",
    "        res = \"Negative\"\n",
    "    elif num > 0:\n",
    "        res = \"Positive\"\n",
    "    elif num == 0:\n",
    "        res = \"Zero\"\n",
    "        \n",
    "    return res\n",
    "\n",
    "num = int(input(\"enter the number :\"))\n",
    "\n",
    "chk_pos_neg_zero(num)"
   ]
  },
  {
   "cell_type": "code",
   "execution_count": 15,
   "id": "d919eb27",
   "metadata": {},
   "outputs": [
    {
     "name": "stdout",
     "output_type": "stream",
     "text": [
      "enter the number :45\n"
     ]
    },
    {
     "data": {
      "text/plain": [
       "'Odd'"
      ]
     },
     "execution_count": 15,
     "metadata": {},
     "output_type": "execute_result"
    }
   ],
   "source": [
    "#2.\tWrite a Python Program to Check if a Number is Odd or Even?\n",
    "\n",
    "def chk_odd_even(num):\n",
    "\n",
    "    if num == 0:\n",
    "        res = \"Not Even Nor Odd\"    \n",
    "    elif num % 2 == 0:\n",
    "        res = \"Even\"\n",
    "    else:\n",
    "        res = \"Odd\"\n",
    "    \n",
    "    return res\n",
    "    \n",
    "num = int(input(\"enter the number :\"))\n",
    "\n",
    "chk_odd_even(num)\n",
    "    "
   ]
  },
  {
   "cell_type": "code",
   "execution_count": 16,
   "id": "d8182245",
   "metadata": {},
   "outputs": [
    {
     "name": "stdout",
     "output_type": "stream",
     "text": [
      "enter the year :1996\n"
     ]
    },
    {
     "data": {
      "text/plain": [
       "'Leap Year'"
      ]
     },
     "execution_count": 16,
     "metadata": {},
     "output_type": "execute_result"
    }
   ],
   "source": [
    "#3.\tWrite a Python Program to Check Leap Year?\n",
    "\n",
    "def chk_leap_yr(year):\n",
    "    \n",
    "    if year % 4 == 0:\n",
    "        res = \"Leap Year\"\n",
    "    else:\n",
    "        res = \"Not a Leap Year\"\n",
    "    \n",
    "    return res\n",
    "\n",
    "year = int(input(\"enter the year :\"))\n",
    "\n",
    "chk_leap_yr(year)\n",
    "        "
   ]
  },
  {
   "cell_type": "code",
   "execution_count": 50,
   "id": "3ac143e6",
   "metadata": {},
   "outputs": [
    {
     "name": "stdout",
     "output_type": "stream",
     "text": [
      "enter the number:6\n"
     ]
    },
    {
     "data": {
      "text/plain": [
       "'Composite'"
      ]
     },
     "execution_count": 50,
     "metadata": {},
     "output_type": "execute_result"
    }
   ],
   "source": [
    "# 4.\tWrite a Python Program to Check Prime Number?\n",
    "\n",
    "def chk_prime(num):\n",
    "    \n",
    "    if num >= 1:\n",
    "        if num == 1:\n",
    "            res = \"Not Prime Nor Composite\"\n",
    "        elif num == 2:\n",
    "            res = \"Prime\"\n",
    "        else:\n",
    "            lst = list(range(2, num))\n",
    "            k = 0\n",
    "            \n",
    "            for ech in lst:\n",
    "                if num % ech == 0:\n",
    "                    k = 1\n",
    "            \n",
    "            if k == 0:\n",
    "                res = \"Prime\"\n",
    "            elif k == 1:\n",
    "                res = \"Composite\"\n",
    "                \n",
    "    else:\n",
    "        res = \"Composite\"\n",
    "    \n",
    "\n",
    "    return res\n",
    "\n",
    "num = int(input(\"enter the number:\"))\n",
    "chk_prime(num)"
   ]
  },
  {
   "cell_type": "code",
   "execution_count": null,
   "id": "ba5b801a",
   "metadata": {},
   "outputs": [],
   "source": [
    "# 5.\tWrite a Python Program to Print all Prime Numbers in an Interval of 1-10000?\n",
    "def prime(range_start, range_end):    \n",
    "    prime_lst = [ ]\n",
    "    \n",
    "    for ech in range(range_start, range_end):\n",
    "        if chk_prime(ech) == \"Prime\":\n",
    "            prime_lst.append(ech)\n",
    "        else:\n",
    "            continue\n",
    "    return(prime_lst)\n",
    "\n",
    "range_start, range_end = input(\"enter the two numbers defining the range\").split(\",\")\n",
    "print(range_start, range_end)\n",
    "range_start = int(range_start)\n",
    "range_end = int(range_end)\n",
    "\n",
    "prime(range_start, range_end)"
   ]
  },
  {
   "cell_type": "code",
   "execution_count": 3,
   "id": "ac618531",
   "metadata": {},
   "outputs": [
    {
     "data": {
      "text/plain": [
       "6"
      ]
     },
     "execution_count": 3,
     "metadata": {},
     "output_type": "execute_result"
    }
   ],
   "source": [
    "#recursive sum\n",
    "def sum(num):\n",
    "    \n",
    "    if num>0:\n",
    "        res = num + sum(num-1)\n",
    "        #print(res)\n",
    "    else:\n",
    "        res = 0\n",
    "    \n",
    "    result = res\n",
    "        \n",
    "    return result\n",
    "        \n",
    "sum(3)"
   ]
  },
  {
   "cell_type": "code",
   "execution_count": null,
   "id": "23773070",
   "metadata": {},
   "outputs": [],
   "source": []
  },
  {
   "cell_type": "code",
   "execution_count": null,
   "id": "1dfbd271",
   "metadata": {},
   "outputs": [],
   "source": []
  }
 ],
 "metadata": {
  "kernelspec": {
   "display_name": "Python 3 (ipykernel)",
   "language": "python",
   "name": "python3"
  },
  "language_info": {
   "codemirror_mode": {
    "name": "ipython",
    "version": 3
   },
   "file_extension": ".py",
   "mimetype": "text/x-python",
   "name": "python",
   "nbconvert_exporter": "python",
   "pygments_lexer": "ipython3",
   "version": "3.9.12"
  }
 },
 "nbformat": 4,
 "nbformat_minor": 5
}
