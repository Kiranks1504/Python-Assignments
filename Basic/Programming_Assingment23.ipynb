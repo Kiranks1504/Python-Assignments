{
 "cells": [
  {
   "cell_type": "code",
   "execution_count": null,
   "id": "f0b00c01",
   "metadata": {},
   "outputs": [],
   "source": [
    "# 1.Question 1\n",
    "# Create a function that takes a number as an argument and returns True or False depending on whether the number is symmetrical or not. A number is symmetrical when it is the same as its reverse.\n",
    "# Examples\n",
    "# is_symmetrical(7227) ➞ True\n",
    "\n",
    "# is_symmetrical(12567) ➞ False\n",
    "\n",
    "# is_symmetrical(44444444) ➞ True\n",
    "\n",
    "# is_symmetrical(9939) ➞ False\n",
    "\n",
    "# is_symmetrical(1112111) ➞ True\n",
    "\n",
    "# 2.Question 2\n",
    "# Given a string of numbers separated by a comma and space, return the product of the numbers.\n",
    "# Examples\n",
    "# multiply_nums(\"2, 3\") ➞ 6\n",
    "\n",
    "# multiply_nums(\"1, 2, 3, 4\") ➞ 24\n",
    "\n",
    "# multiply_nums(\"54, 75, 453, 0\") ➞ 0\n",
    "\n",
    "# multiply_nums(\"10, -2\") ➞ -20\n",
    "\n",
    "# 3.Question 3\n",
    "# Create a function that squares every digit of a number.\n",
    "# Examples\n",
    "# square_digits(9119) ➞ 811181\n",
    "\n",
    "# square_digits(2483) ➞ 416649\n",
    "\n",
    "# square_digits(3212) ➞ 9414\n",
    "# Notes\n",
    "# The function receives an integer and must return an integer.\n",
    "\n",
    "# 4.Question 4\n",
    "# Create a function that sorts a list and removes all duplicate items from it.\n",
    "# Examples\n",
    "# setify([1, 3, 3, 5, 5]) ➞ [1, 3, 5]\n",
    "\n",
    "# setify([4, 4, 4, 4]) ➞ [4]\n",
    "\n",
    "# setify([5, 7, 8, 9, 10, 15]) ➞ [5, 7, 8, 9, 10, 15]\n",
    "\n",
    "# setify([3, 3, 3, 2, 1]) ➞ [1, 2, 3]\n",
    "\n",
    "# 5.Question 5\n",
    "# Create a function that returns the mean of all digits.\n",
    "# Examples\n",
    "# mean(42) ➞ 3\n",
    "\n",
    "# mean(12345) ➞ 3\n",
    "\n",
    "# mean(666) ➞ 6\n",
    "# Notes\n",
    "# The mean of all digits is the sum of digits / how many digits there are (e.g. mean of digits in 512 is (5+1+2)/3(number of digits) = 8/3=2).\n",
    "# The mean will always be an integer.\n",
    "\n"
   ]
  },
  {
   "cell_type": "code",
   "execution_count": null,
   "id": "224b84f7",
   "metadata": {},
   "outputs": [],
   "source": [
    "# 1.Question 1\n",
    "# Create a function that takes a number as an argument and returns True or False depending on whether the number is symmetrical or not. A number is symmetrical when it is the same as its reverse.\n",
    "# Examples\n",
    "# is_symmetrical(7227) ➞ True\n",
    "\n",
    "# is_symmetrical(12567) ➞ False\n",
    "\n",
    "# is_symmetrical(44444444) ➞ True\n",
    "\n",
    "# is_symmetrical(9939) ➞ False\n",
    "\n",
    "# is_symmetrical(1112111) ➞ True\n",
    "def is_symmetrical(s_num):\n",
    "    s_num_rev = s_num[::-1]\n",
    "\n",
    "    if s_num == s_num_rev:\n",
    "        return True\n",
    "    else:\n",
    "        return False\n",
    "\n",
    "s_num = input(\"Enter the number: \")\n",
    "result = is_symmetrical(s_num)\n",
    "print(result)"
   ]
  },
  {
   "cell_type": "code",
   "execution_count": 13,
   "id": "bdf71639",
   "metadata": {},
   "outputs": [
    {
     "name": "stdout",
     "output_type": "stream",
     "text": [
      "Product of the numbers: -20\n"
     ]
    }
   ],
   "source": [
    "# 2.Question 2\n",
    "# Given a string of numbers separated by a comma and space, return the product of the numbers.\n",
    "# Examples\n",
    "# multiply_nums(\"2, 3\") ➞ 6\n",
    "\n",
    "# multiply_nums(\"1, 2, 3, 4\") ➞ 24\n",
    "\n",
    "# multiply_nums(\"54, 75, 453, 0\") ➞ 0\n",
    "\n",
    "# multiply_nums(\"10, -2\") ➞ -20\n",
    "\n",
    "def multiply_nums(strng):\n",
    "    nw_strng = strng.split(\", \") #or we can use : strng.replace(\", \",\"\")\n",
    "\n",
    "    int_nw_strng = [int(i) for i in nw_strng]\n",
    "    prod = 1\n",
    "    for i in int_nw_strng:\n",
    "        prod = prod * i\n",
    "\n",
    "    return prod\n",
    "\n",
    "# strng = \"2, 3\"\n",
    "# strng = \"1, 2, 3, 4\"\n",
    "# strng = \"54, 75, 453, 0\"\n",
    "strng = \"10, -2\"\n",
    "result = multiply_nums(strng)\n",
    "print(f\"Product of the numbers: {result}\")"
   ]
  },
  {
   "cell_type": "code",
   "execution_count": 37,
   "id": "3a307dcc",
   "metadata": {},
   "outputs": [
    {
     "name": "stdout",
     "output_type": "stream",
     "text": [
      "Enter the number: 3212\n",
      "result of square_digits function: 9414\n"
     ]
    }
   ],
   "source": [
    "# 3.Question 3\n",
    "# Create a function that squares every digit of a number.\n",
    "# Examples\n",
    "# square_digits(9119) ➞ 811181\n",
    "\n",
    "# square_digits(2483) ➞ 416649\n",
    "\n",
    "# square_digits(3212) ➞ 9414\n",
    "# Notes\n",
    "# The function receives an integer and must return an integer.\n",
    "\n",
    "def square_digits(int_num):\n",
    "    str_num = str(int_num)\n",
    "    squared_digits = [str((int(i)**2)) for i in str_num]\n",
    "    str_squared_digits = \"\".join(squared_digits)\n",
    "    int_squared_digits = int(str_squared_digits)\n",
    "    return int_squared_digits\n",
    "\n",
    "int_num = int(input(\"Enter the number: \"))\n",
    "result = square_digits(int_num)\n",
    "print(f\"result of square_digits function: {result}\")"
   ]
  },
  {
   "cell_type": "code",
   "execution_count": 41,
   "id": "6d77bbbd",
   "metadata": {},
   "outputs": [
    {
     "name": "stdout",
     "output_type": "stream",
     "text": [
      "Result of setify() function: [1, 2, 3]\n"
     ]
    }
   ],
   "source": [
    "# 4.Question 4\n",
    "# Create a function that sorts a list and removes all duplicate items from it.\n",
    "# Examples\n",
    "# setify([1, 3, 3, 5, 5]) ➞ [1, 3, 5]\n",
    "\n",
    "# setify([4, 4, 4, 4]) ➞ [4]\n",
    "\n",
    "# setify([5, 7, 8, 9, 10, 15]) ➞ [5, 7, 8, 9, 10, 15]\n",
    "\n",
    "# setify([3, 3, 3, 2, 1]) ➞ [1, 2, 3]\n",
    "\n",
    "def setify(lst):\n",
    "    sorted_lst = sorted(lst)\n",
    "    setified_sorted_lst = set(sorted_lst)\n",
    "    result_lst = list(setified_sorted_lst)\n",
    "    return result_lst\n",
    "\n",
    "# lst = [1, 3, 3, 5, 5]\n",
    "# lst = [4, 4, 4, 4]\n",
    "# lst = [5, 7, 8, 9, 10, 15]\n",
    "lst = [3, 3, 3, 2, 1]\n",
    "result = setify(lst)\n",
    "print(F\"Result of setify() function: {result}\")\n"
   ]
  },
  {
   "cell_type": "code",
   "execution_count": 51,
   "id": "bf26f8af",
   "metadata": {},
   "outputs": [
    {
     "name": "stdout",
     "output_type": "stream",
     "text": [
      "Enter the number: 666\n",
      "Mean of the digits in 666: 6\n"
     ]
    }
   ],
   "source": [
    "# 5.Question 5\n",
    "# Create a function that returns the mean of all digits.\n",
    "# Examples\n",
    "# mean(42) ➞ 3\n",
    "\n",
    "# mean(12345) ➞ 3\n",
    "\n",
    "# mean(666) ➞ 6\n",
    "# Notes\n",
    "# The mean of all digits is the sum of digits / how many digits there are (e.g. mean of digits in 512 is (5+1+2)/3(number of digits) = 8/3=2).\n",
    "# The mean will always be an integer.\n",
    "\n",
    "def mean(int_num):\n",
    "    str_num = str(int_num)\n",
    "    lst_int_num = [int(i) for i in str_num]\n",
    "    sum_digits = sum(lst_int_num)\n",
    "    mean = int(sum_digits/len(str_num))\n",
    "    return mean\n",
    "\n",
    "int_num = int(input(\"Enter the number: \"))\n",
    "result = mean(int_num)\n",
    "print(f\"Mean of the digits in {int_num}: {result}\")"
   ]
  },
  {
   "cell_type": "code",
   "execution_count": null,
   "id": "bd462aeb",
   "metadata": {},
   "outputs": [],
   "source": []
  }
 ],
 "metadata": {
  "kernelspec": {
   "display_name": "Python 3 (ipykernel)",
   "language": "python",
   "name": "python3"
  },
  "language_info": {
   "codemirror_mode": {
    "name": "ipython",
    "version": 3
   },
   "file_extension": ".py",
   "mimetype": "text/x-python",
   "name": "python",
   "nbconvert_exporter": "python",
   "pygments_lexer": "ipython3",
   "version": "3.9.12"
  }
 },
 "nbformat": 4,
 "nbformat_minor": 5
}
