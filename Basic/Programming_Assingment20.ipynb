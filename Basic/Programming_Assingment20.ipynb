{
 "cells": [
  {
   "cell_type": "code",
   "execution_count": null,
   "id": "67b27a11",
   "metadata": {},
   "outputs": [],
   "source": [
    "# 1.Question1\n",
    "# Create a function that takes a list of strings and integers, and filters out the list so that it returns a list of integers only.\n",
    "# Examples\n",
    "# filter_list([1, 2, 3, \"a\", \"b\", 4]) ➞ [1, 2, 3, 4]\n",
    "\n",
    "# filter_list([\"A\", 0, \"Edabit\", 1729, \"Python\", \"1729\"]) ➞ [0, 1729]\n",
    "\n",
    "# filter_list([\"Nothing\", \"here\"]) ➞ []\n",
    "\n",
    "# 2.Question2\n",
    "# Given a list of numbers, create a function which returns the list but with each element's index in the list added to itself. This means you add 0 to the number at index 0, add 1 to the number at index 1, etc...\n",
    "# Examples\n",
    "# add_indexes([0, 0, 0, 0, 0]) ➞ [0, 1, 2, 3, 4]\n",
    "\n",
    "# add_indexes([1, 2, 3, 4, 5]) ➞ [1, 3, 5, 7, 9]\n",
    "\n",
    "# add_indexes([5, 4, 3, 2, 1]) ➞ [5, 5, 5, 5, 5]\n",
    "\n",
    "# 3.Question3\n",
    "# Create a function that takes the height and radius of a cone as arguments and returns the volume of the cone rounded to the nearest hundredth. See the resources tab for the formula.\n",
    " \n",
    "# Examples\n",
    "# cone_volume(3, 2) ➞ 12.57\n",
    "\n",
    "# cone_volume(15, 6) ➞ 565.49\n",
    "\n",
    "# cone_volume(18, 0) ➞ 0\n",
    "\n",
    "# 4.Question4\n",
    "# This Triangular Number Sequence is generated from a pattern of dots that form a triangle. The first 5 numbers of the sequence, or dots, are: \n",
    "# 1, 3, 6, 10, 15\n",
    "# This means that the first triangle has just one dot, the second one has three dots, the third one has 6 dots and so on.\n",
    "# Write a function that gives the number of dots with its corresponding triangle number of the sequence.\n",
    "# Examples\n",
    "# triangle(1) ➞ 1\n",
    "\n",
    "# triangle(6) ➞ 21\n",
    "\n",
    "# triangle(215) ➞ 23220\n",
    "\n",
    "# 5.Question5\n",
    "# Create a function that takes a list of numbers between 1 and 10 (excluding one number) and returns the missing number.\n",
    "# Examples\n",
    "# missing_num([1, 2, 3, 4, 6, 7, 8, 9, 10]) ➞ 5\n",
    "\n",
    "# missing_num([7, 2, 3, 6, 5, 9, 1, 4, 8]) ➞ 10\n",
    "\n",
    "# missing_num([10, 5, 1, 2, 4, 6, 8, 3, 9]) ➞ 7\n",
    "\n"
   ]
  },
  {
   "cell_type": "code",
   "execution_count": 12,
   "id": "df00c060",
   "metadata": {},
   "outputs": [
    {
     "name": "stdout",
     "output_type": "stream",
     "text": [
      "[1, 2, 3, 4]\n"
     ]
    }
   ],
   "source": [
    "# 1.Question1\n",
    "# Create a function that takes a list of strings and integers, and filters out the list so that it returns a list of integers only.\n",
    "# Examples\n",
    "# filter_list([1, 2, 3, \"a\", \"b\", 4]) ➞ [1, 2, 3, 4]\n",
    "\n",
    "# filter_list([\"A\", 0, \"Edabit\", 1729, \"Python\", \"1729\"]) ➞ [0, 1729]\n",
    "\n",
    "# filter_list([\"Nothing\", \"here\"]) ➞ []\n",
    "\n",
    "def filter_list(lst):\n",
    "    nw_lst = [x for x in lst if type(x) == int]\n",
    "    return nw_lst\n",
    "\n",
    "lst = [1, 2, 3, \"a\", \"b\", 4]\n",
    "# lst = [\"A\", 0, \"Edabit\", 1729, \"Python\", \"1729\"]\n",
    "# lst = [\"Nothing\", \"here\"]\n",
    "\n",
    "result = filter_list(lst)\n",
    "print(result)"
   ]
  },
  {
   "cell_type": "code",
   "execution_count": 11,
   "id": "cbb49032",
   "metadata": {},
   "outputs": [
    {
     "name": "stdout",
     "output_type": "stream",
     "text": [
      "[1, 3, 5, 7, 9]\n"
     ]
    }
   ],
   "source": [
    "# 2.Question2\n",
    "# Given a list of numbers, create a function which returns the list but with each element's index in the list added to itself. This means you add 0 to the number at index 0, add 1 to the number at index 1, etc...\n",
    "# Examples\n",
    "# add_indexes([0, 0, 0, 0, 0]) ➞ [0, 1, 2, 3, 4]\n",
    "\n",
    "# add_indexes([1, 2, 3, 4, 5]) ➞ [1, 3, 5, 7, 9]\n",
    "\n",
    "# add_indexes([5, 4, 3, 2, 1]) ➞ [5, 5, 5, 5, 5]\n",
    "\n",
    "def add_indexes(lst):\n",
    "    nw_lst = []\n",
    "    for i in range(len(lst)):\n",
    "        val = lst[i] + i\n",
    "        nw_lst.append(val)\n",
    "\n",
    "    return nw_lst\n",
    "\n",
    "# lst = [0, 0, 0, 0, 0]\n",
    "lst = [1, 2, 3, 4, 5]\n",
    "# lst = [5, 4, 3, 2, 1]\n",
    "\n",
    "result = add_indexes(lst)\n",
    "print(result)"
   ]
  },
  {
   "cell_type": "code",
   "execution_count": 10,
   "id": "45d4a6c5",
   "metadata": {},
   "outputs": [
    {
     "name": "stdout",
     "output_type": "stream",
     "text": [
      "Enter the height of the cone: 3\n",
      "Enter the radius of the cone: 2\n",
      "Volume of cone with height, 3 and radius, 2 = 12.57\n"
     ]
    }
   ],
   "source": [
    "# 3.Question3\n",
    "# Create a function that takes the height and radius of a cone as arguments and returns the volume of the cone rounded to the nearest hundredth. See the resources tab for the formula.\n",
    " \n",
    "# Examples\n",
    "# cone_volume(3, 2) ➞ 12.57\n",
    "\n",
    "# cone_volume(15, 6) ➞ 565.49\n",
    "\n",
    "# cone_volume(18, 0) ➞ 0\n",
    "\n",
    "def cone_volume(ht, rad):\n",
    "    import math\n",
    "    \n",
    "    volume = (1/3) * (math.pi) * (rad**2) * (ht)\n",
    "    if type(volume) != int:\n",
    "        volume = round(volume, 2)\n",
    "    else:\n",
    "        volume = int(volume)\n",
    "        \n",
    "    return volume\n",
    "\n",
    "ht = int(input(\"Enter the height of the cone: \"))\n",
    "rad = int(input(\"Enter the radius of the cone: \"))\n",
    "result = cone_volume(ht, rad)\n",
    "print(f\"Volume of cone with height, {ht} and radius, {rad} = {result}\")"
   ]
  },
  {
   "cell_type": "code",
   "execution_count": 8,
   "id": "3bda6d00",
   "metadata": {},
   "outputs": [
    {
     "name": "stdout",
     "output_type": "stream",
     "text": [
      "Enter the triangle number: 215\n",
      "Numeber of dots in triangle number, 215 = 23220\n"
     ]
    }
   ],
   "source": [
    "# 4.Question4\n",
    "# This Triangular Number Sequence is generated from a pattern of dots that form a triangle. The first 5 numbers of the sequence, or dots, are: \n",
    "# 1, 3, 6, 10, 15\n",
    "# This means that the first triangle has just one dot, the second one has three dots, the third one has 6 dots and so on.\n",
    "# Write a function that gives the number of dots with its corresponding triangle number of the sequence.\n",
    "# Examples\n",
    "# triangle(1) ➞ 1\n",
    "\n",
    "# triangle(6) ➞ 21\n",
    "\n",
    "# triangle(215) ➞ 23220\n",
    "\n",
    "def triangle(tria_num):\n",
    "    res = 0\n",
    "    if tria_num > 0 :\n",
    "        \n",
    "        res = tria_num + triangle(tria_num-1)\n",
    "\n",
    "    return res\n",
    "\n",
    "tria_num = int(input(\"Enter the triangle number: \"))\n",
    "result = triangle(tria_num)\n",
    "print( f\"Numeber of dots in triangle number, {tria_num} = {result}\")\n"
   ]
  },
  {
   "cell_type": "code",
   "execution_count": 9,
   "id": "cf3fe979",
   "metadata": {},
   "outputs": [
    {
     "name": "stdout",
     "output_type": "stream",
     "text": [
      "Missing number is: 5\n"
     ]
    }
   ],
   "source": [
    "# 5.Question5\n",
    "# Create a function that takes a list of numbers between 1 and 10 (excluding one number) and returns the missing number.\n",
    "# Examples\n",
    "# missing_num([1, 2, 3, 4, 6, 7, 8, 9, 10]) ➞ 5\n",
    "\n",
    "# missing_num([7, 2, 3, 6, 5, 9, 1, 4, 8]) ➞ 10\n",
    "\n",
    "# missing_num([10, 5, 1, 2, 4, 6, 8, 3, 9]) ➞ 7\n",
    "\n",
    "def missing_num(lst):\n",
    "    \n",
    "    nw_lst = [x for x in range(1, 11) if x not in lst]\n",
    "\n",
    "    return nw_lst[0]\n",
    "\n",
    "lst = [1, 2, 3, 4, 6, 7, 8, 9, 10]\n",
    "# lst = [7, 2, 3, 6, 5, 9, 1, 4, 8]\n",
    "# lst = [10, 5, 1, 2, 4, 6, 8, 3, 9]\n",
    "\n",
    "result = missing_num(lst)\n",
    "print(f\"Missing number is: {result}\")"
   ]
  },
  {
   "cell_type": "code",
   "execution_count": null,
   "id": "0f8f0dac",
   "metadata": {},
   "outputs": [],
   "source": []
  }
 ],
 "metadata": {
  "kernelspec": {
   "display_name": "Python 3 (ipykernel)",
   "language": "python",
   "name": "python3"
  },
  "language_info": {
   "codemirror_mode": {
    "name": "ipython",
    "version": 3
   },
   "file_extension": ".py",
   "mimetype": "text/x-python",
   "name": "python",
   "nbconvert_exporter": "python",
   "pygments_lexer": "ipython3",
   "version": "3.9.12"
  }
 },
 "nbformat": 4,
 "nbformat_minor": 5
}
